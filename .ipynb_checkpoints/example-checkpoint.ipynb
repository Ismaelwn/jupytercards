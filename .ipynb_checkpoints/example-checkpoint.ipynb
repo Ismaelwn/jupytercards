{
 "cells": [
  {
   "cell_type": "markdown",
   "id": "b84b312a-7921-4b1a-a966-d618004653b2",
   "metadata": {},
   "source": [
    "$~~~~\\mbox{ }$"
   ]
  },
  {
   "cell_type": "markdown",
   "id": "7a34c0bf-de01-467b-aacd-877d0096ce01",
   "metadata": {},
   "source": [
    "# Example Usage of Jupyter Cards"
   ]
  },
  {
   "cell_type": "code",
   "execution_count": 10,
   "id": "b1dbda7d-1db7-42ab-bb37-2fe18bc63388",
   "metadata": {},
   "outputs": [
    {
     "ename": "ModuleNotFoundError",
     "evalue": "No module named 'dynamic'",
     "output_type": "error",
     "traceback": [
      "\u001b[1;31m---------------------------------------------------------------------------\u001b[0m",
      "\u001b[1;31mModuleNotFoundError\u001b[0m                       Traceback (most recent call last)",
      "Cell \u001b[1;32mIn[10], line 1\u001b[0m\n\u001b[1;32m----> 1\u001b[0m \u001b[38;5;28;01mimport\u001b[39;00m\u001b[38;5;250m \u001b[39m\u001b[38;5;21;01mdynamic\u001b[39;00m\u001b[38;5;21;01m.\u001b[39;00m\u001b[38;5;21;01mpy\u001b[39;00m\n",
      "\u001b[1;31mModuleNotFoundError\u001b[0m: No module named 'dynamic'"
     ]
    }
   ],
   "source": [
    "import os"
   ]
  },
  {
   "cell_type": "code",
   "execution_count": null,
   "id": "1e98e9e4-c3d2-4899-a01c-0068325378ac",
   "metadata": {},
   "outputs": [],
   "source": []
  },
  {
   "cell_type": "markdown",
   "id": "f5608a26-a3cd-4a51-a23a-3a8d8448d103",
   "metadata": {},
   "source": [
    "## Basic usage, loading from URL"
   ]
  },
  {
   "cell_type": "code",
   "execution_count": null,
   "id": "f540d5ec-7c33-42f2-ba69-f79d89b0d879",
   "metadata": {},
   "outputs": [],
   "source": []
  }
 ],
 "metadata": {
  "kernelspec": {
   "display_name": "Python 3 (ipykernel)",
   "language": "python",
   "name": "python3"
  },
  "language_info": {
   "codemirror_mode": {
    "name": "ipython",
    "version": 3
   },
   "file_extension": ".py",
   "mimetype": "text/x-python",
   "name": "python",
   "nbconvert_exporter": "python",
   "pygments_lexer": "ipython3",
   "version": "3.13.1"
  }
 },
 "nbformat": 4,
 "nbformat_minor": 5
}
